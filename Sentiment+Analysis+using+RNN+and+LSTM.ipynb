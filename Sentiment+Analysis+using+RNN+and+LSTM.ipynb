{
 "cells": [
  {
   "cell_type": "markdown",
   "metadata": {},
   "source": [
    "# Sentiment Analysis\n",
    "\n",
    "# Author : Rajya Laxmi Yellajosyula\n",
    "\n",
    "Below tasks make use of sample tweets dataset as listed below:\n",
    "\n",
    "- Train.csv\n",
    "- test.csv\n",
    "- stopwords.txt\n",
    "\n",
    "Sentiment Analysis is done by performing below 4 tasks -\n",
    "1. Read the data\n",
    "2. Create a word2vec model and use it in SVM classification\n",
    "3. Use the same data on RNN and LSTM models\n",
    "4. Compare the results\n"
   ]
  },
  {
   "cell_type": "markdown",
   "metadata": {},
   "source": [
    "### 1. Read the training data \n",
    "\n",
    "Read the data present in training.csv file. <br>\n",
    "Perform the following cleaning on the data:\n",
    "1. Keep only the Sentiment and sentiment text in the dataframe - the first and the last coumn\n",
    "2. Some of the sentiments and sentiment texts are empty. Remove those rows.\n",
    "3. Shuffle the rows of the data frame such that the positive and negative tweets are mixed\n",
    "4. Print the first 5 sentiments.\n",
    "5. Print the number of positive and negative sentiments\n"
   ]
  },
  {
   "cell_type": "code",
   "execution_count": 1,
   "metadata": {},
   "outputs": [
    {
     "name": "stdout",
     "output_type": "stream",
     "text": [
      "         Sentiment                                               Text\n",
      "512354           0  @BexMcLife you killed off my Shaney!  haha.. a...\n",
      "1344368          1  @Jonasbrothers Love it. Kevin rocks, just sayi...\n",
      "592256           0        I miss spicy korean food  its been so long!\n",
      "1505187          1  @LEXYVEE sounds like you need to make a &quot;...\n",
      "622814           0  Leaving for PA soon! So excited.  Naturally my...\n"
     ]
    },
    {
     "data": {
      "text/html": [
       "<div>\n",
       "<style>\n",
       "    .dataframe thead tr:only-child th {\n",
       "        text-align: right;\n",
       "    }\n",
       "\n",
       "    .dataframe thead th {\n",
       "        text-align: left;\n",
       "    }\n",
       "\n",
       "    .dataframe tbody tr th {\n",
       "        vertical-align: top;\n",
       "    }\n",
       "</style>\n",
       "<table border=\"1\" class=\"dataframe\">\n",
       "  <thead>\n",
       "    <tr style=\"text-align: right;\">\n",
       "      <th></th>\n",
       "      <th>Text</th>\n",
       "    </tr>\n",
       "    <tr>\n",
       "      <th>Sentiment</th>\n",
       "      <th></th>\n",
       "    </tr>\n",
       "  </thead>\n",
       "  <tbody>\n",
       "    <tr>\n",
       "      <th>0</th>\n",
       "      <td>800000</td>\n",
       "    </tr>\n",
       "    <tr>\n",
       "      <th>1</th>\n",
       "      <td>800000</td>\n",
       "    </tr>\n",
       "  </tbody>\n",
       "</table>\n",
       "</div>"
      ],
      "text/plain": [
       "             Text\n",
       "Sentiment        \n",
       "0          800000\n",
       "1          800000"
      ]
     },
     "execution_count": 1,
     "metadata": {},
     "output_type": "execute_result"
    }
   ],
   "source": [
    "import warnings\n",
    "warnings.filterwarnings('ignore')\n",
    "\n",
    "import pandas as pd\n",
    "df = pd.read_csv('HW3-data/train.csv', header=None, encoding='ISO-8859-1')\n",
    "\n",
    "df = df[df.columns[[0,5]]]\n",
    "df.columns = ['Sentiment', 'Text']\n",
    "df = df[df.Sentiment.isnull() == False]\n",
    "df['Sentiment'] = df['Sentiment'].map(int)\n",
    "df = df[df['Text'].isnull() == False]\n",
    "df = df.sample(frac=1)\n",
    "print(df.head(5))\n",
    "df.groupby('Sentiment').count()\n"
   ]
  },
  {
   "cell_type": "markdown",
   "metadata": {},
   "source": [
    "### 2\\. Data Preparation "
   ]
  },
  {
   "cell_type": "markdown",
   "metadata": {},
   "source": [
    "Before building a neural network model, we first need to prepare the data. The input to a RNN model  is a matrix with shape (a, b), where a is the number of samples (twitters), and b is the sequence length of each tweet.Data preparation is achieved as  follows:\n",
    "\n",
    "- Take the RAW texts of the top 5000 tweets in the dataframe, and convert them to a list of strings, where each string is a tweet.\n",
    "- Use `Tokenizer` from `keras.preprocessing.text` to tokenize the texts and convert them to sequences (numbers) with `texts_to_sequences` method of `Tokenizer`. **When tokenizing, only consider the top 10,000 words in the dataset (`num_words`=10,000)**. \n",
    "- Pad each sequence with zeros to **make the sequence length 120**.\n",
    "- Split the above data (the sequence and the label) into training (67%) and validation (33%) sets."
   ]
  },
  {
   "cell_type": "code",
   "execution_count": 2,
   "metadata": {},
   "outputs": [
    {
     "name": "stderr",
     "output_type": "stream",
     "text": [
      "Using TensorFlow backend.\n"
     ]
    }
   ],
   "source": [
    "from keras.preprocessing.text import Tokenizer\n",
    "from keras.preprocessing.sequence import pad_sequences\n",
    "from sklearn.model_selection import train_test_split\n",
    "\n",
    "max_len = 120\n",
    "max_words = 10000\n",
    "\n",
    "texts = list(df['Text'].head(5000))\n",
    "tokenizer = Tokenizer(num_words = max_words)\n",
    "tokenizer.fit_on_texts(texts)\n",
    "sequences = tokenizer.texts_to_sequences(texts)\n",
    "\n",
    "\n",
    "labels = df['Sentiment'].head(5000)\n",
    "\n",
    "data = pad_sequences(sequences, maxlen=max_len)\n",
    "X_train, X_validation, y_train, y_validation = train_test_split(data, labels, test_size=0.33, random_state=42)"
   ]
  },
  {
   "cell_type": "markdown",
   "metadata": {},
   "source": [
    "### b) Simple RNN"
   ]
  },
  {
   "cell_type": "markdown",
   "metadata": {},
   "source": [
    "i) A simple RNN model is built with the following specifications:\n",
    "1. An embedding layer with output dimenstion 64.\n",
    "2. A simple RNN layer.\n",
    "3. A dense layer with sigmoid activation function for prediction.\n",
    "Print the summary of the model."
   ]
  },
  {
   "cell_type": "code",
   "execution_count": 3,
   "metadata": {},
   "outputs": [
    {
     "name": "stdout",
     "output_type": "stream",
     "text": [
      "_________________________________________________________________\n",
      "Layer (type)                 Output Shape              Param #   \n",
      "=================================================================\n",
      "embedding_1 (Embedding)      (None, 120, 64)           640000    \n",
      "_________________________________________________________________\n",
      "simple_rnn_1 (SimpleRNN)     (None, 64)                8256      \n",
      "_________________________________________________________________\n",
      "dense_1 (Dense)              (None, 1)                 65        \n",
      "=================================================================\n",
      "Total params: 648,321\n",
      "Trainable params: 648,321\n",
      "Non-trainable params: 0\n",
      "_________________________________________________________________\n"
     ]
    }
   ],
   "source": [
    "from keras.models import Sequential\n",
    "from keras.layers import Embedding,SimpleRNN, Dense\n",
    "\n",
    "rnn_model = Sequential()\n",
    "rnn_model.add(Embedding(max_words, 64, input_length=max_len))\n",
    "rnn_model.add(SimpleRNN(64))\n",
    "rnn_model.add(Dense(1, activation='sigmoid'))\n",
    "rnn_model.summary()"
   ]
  },
  {
   "cell_type": "markdown",
   "metadata": {},
   "source": [
    "ii) Train the simple RNN model:\n",
    "- Compile the model with binary cross entory as loss and accuracy as evaluation metrics.\n",
    "- Fit the model with the training set with 5 epochs and batch size 32.\n",
    "- Plot the training and validation accuracy for each epoch."
   ]
  },
  {
   "cell_type": "code",
   "execution_count": 4,
   "metadata": {},
   "outputs": [
    {
     "name": "stdout",
     "output_type": "stream",
     "text": [
      "Train on 3350 samples, validate on 1650 samples\n",
      "Epoch 1/5\n",
      "3350/3350 [==============================] - 8s - loss: 0.6998 - acc: 0.5173 - val_loss: 0.6856 - val_acc: 0.5606\n",
      "Epoch 2/5\n",
      "3350/3350 [==============================] - 8s - loss: 0.5728 - acc: 0.7630 - val_loss: 0.6868 - val_acc: 0.5836\n",
      "Epoch 3/5\n",
      "3350/3350 [==============================] - 8s - loss: 0.5365 - acc: 0.8087 - val_loss: 0.9600 - val_acc: 0.4976\n",
      "Epoch 4/5\n",
      "3350/3350 [==============================] - 7s - loss: 0.3184 - acc: 0.8621 - val_loss: 0.7989 - val_acc: 0.5976\n",
      "Epoch 5/5\n",
      "3350/3350 [==============================] - 8s - loss: 0.1267 - acc: 0.9585 - val_loss: 0.9323 - val_acc: 0.6012\n"
     ]
    }
   ],
   "source": [
    "rnn_model.compile(optimizer='rmsprop',\n",
    "              loss = 'binary_crossentropy',\n",
    "              metrics=['acc'])\n",
    "rnn_history = rnn_model.fit(X_train, y_train,\n",
    "                    epochs=5,\n",
    "                    batch_size=32,\n",
    "                    validation_data=(X_validation, y_validation))"
   ]
  },
  {
   "cell_type": "code",
   "execution_count": 5,
   "metadata": {},
   "outputs": [
    {
     "data": {
      "image/png": "[encoded data removed]",
      "text/plain": [
       "<matplotlib.figure.Figure at 0x1190c0d30>"
      ]
     },
     "metadata": {},
     "output_type": "display_data"
    }
   ],
   "source": [
    "import matplotlib.pyplot as plt\n",
    "\n",
    "def accuracy_plot(history):\n",
    "    acc = history.history['acc']\n",
    "    val_acc = history.history['val_acc']\n",
    "\n",
    "    epochs = range(1, len(acc) + 1)\n",
    "    plt.plot(epochs, acc, 'bo', label='Training acc')\n",
    "    plt.plot(epochs, val_acc, 'b', label='Validation acc')\n",
    "    plt.title('Training and validation accuracy')\n",
    "    plt.legend()\n",
    "    plt.show()\n",
    "\n",
    "accuracy_plot(rnn_history)"
   ]
  },
  {
   "cell_type": "markdown",
   "metadata": {},
   "source": [
    "### c) LSTM "
   ]
  },
  {
   "cell_type": "markdown",
   "metadata": {},
   "source": [
    "i) Building a LSTM model by replacing the simple RNN layer in the above model with a LSTM layer. Print a summary of the LSTM model."
   ]
  },
  {
   "cell_type": "code",
   "execution_count": 6,
   "metadata": {},
   "outputs": [
    {
     "name": "stdout",
     "output_type": "stream",
     "text": [
      "_________________________________________________________________\n",
      "Layer (type)                 Output Shape              Param #   \n",
      "=================================================================\n",
      "embedding_2 (Embedding)      (None, 120, 64)           640000    \n",
      "_________________________________________________________________\n",
      "lstm_1 (LSTM)                (None, 64)                33024     \n",
      "_________________________________________________________________\n",
      "dense_2 (Dense)              (None, 1)                 65        \n",
      "=================================================================\n",
      "Total params: 673,089\n",
      "Trainable params: 673,089\n",
      "Non-trainable params: 0\n",
      "_________________________________________________________________\n"
     ]
    }
   ],
   "source": [
    "from keras.layers import LSTM\n",
    "\n",
    "lstm_model = Sequential()\n",
    "lstm_model.add(Embedding(max_words, 64, input_length=max_len))\n",
    "lstm_model.add(LSTM(64))\n",
    "lstm_model.add(Dense(1, activation='sigmoid'))\n",
    "lstm_model.summary()"
   ]
  },
  {
   "cell_type": "markdown",
   "metadata": {},
   "source": [
    "ii) [1 point] Train the LSTM model with the same specifications in the simple RNN model. Again, plot the training and validation accuracy for each epoch."
   ]
  },
  {
   "cell_type": "code",
   "execution_count": 7,
   "metadata": {},
   "outputs": [
    {
     "name": "stdout",
     "output_type": "stream",
     "text": [
      "Train on 3350 samples, validate on 1650 samples\n",
      "Epoch 1/5\n",
      "3350/3350 [==============================] - 38s - loss: 0.6612 - acc: 0.6084 - val_loss: 0.6201 - val_acc: 0.6624\n",
      "Epoch 2/5\n",
      "3350/3350 [==============================] - 37s - loss: 0.5018 - acc: 0.7722 - val_loss: 0.5652 - val_acc: 0.7133\n",
      "Epoch 3/5\n",
      "3350/3350 [==============================] - 37s - loss: 0.3783 - acc: 0.8424 - val_loss: 0.5802 - val_acc: 0.7097\n",
      "Epoch 4/5\n",
      "3350/3350 [==============================] - 37s - loss: 0.3138 - acc: 0.8788 - val_loss: 0.6364 - val_acc: 0.7030\n",
      "Epoch 5/5\n",
      "3350/3350 [==============================] - 37s - loss: 0.2401 - acc: 0.9099 - val_loss: 0.6866 - val_acc: 0.7012\n"
     ]
    }
   ],
   "source": [
    "lstm_model.compile(optimizer='rmsprop',\n",
    "              loss = 'binary_crossentropy',\n",
    "              metrics=['acc'])\n",
    "\n",
    "lstm_history = lstm_model.fit(X_train, y_train,\n",
    "                    epochs=5,\n",
    "                    batch_size=32,\n",
    "                    validation_data=(X_validation, y_validation))"
   ]
  },
  {
   "cell_type": "code",
   "execution_count": 8,
   "metadata": {},
   "outputs": [
    {
     "data": {
      "image/png": "[encoded data removed]",
      "text/plain": [
       "<matplotlib.figure.Figure at 0x1062b13c8>"
      ]
     },
     "metadata": {},
     "output_type": "display_data"
    }
   ],
   "source": [
    "accuracy_plot(lstm_history)"
   ]
  },
  {
   "cell_type": "markdown",
   "metadata": {},
   "source": [
    "iii) In the previous models, we only use the top 5000 tweets. Now we will be using the whole dataset, split it into training (67%) and validation (33%) set, and train the same LSTM model on the new traning data. we will also plot the training and validation accuracy for each epoch."
   ]
  },
  {
   "cell_type": "code",
   "execution_count": null,
   "metadata": {
    "collapsed": true
   },
   "outputs": [],
   "source": [
    "texts = list(df['Text'])\n",
    "tokenizer = Tokenizer(num_words = max_words)\n",
    "tokenizer.fit_on_texts(texts)\n",
    "sequences = tokenizer.texts_to_sequences(texts)\n",
    "word_index = tokenizer.word_index\n",
    "\n",
    "labels = df['Sentiment']\n",
    "\n",
    "data = pad_sequences(sequences, maxlen=max_len)\n",
    "X_train, X_validation, y_train, y_validation = train_test_split(data, labels, test_size=0.33, random_state=42)"
   ]
  },
  {
   "cell_type": "code",
   "execution_count": null,
   "metadata": {
    "collapsed": true
   },
   "outputs": [],
   "source": [
    "lstm_model.compile(optimizer='rmsprop',\n",
    "              loss = 'binary_crossentropy',\n",
    "              metrics=['acc'])\n",
    "\n",
    "lstm_history = lstm_model.fit(X_train, y_train,\n",
    "                    epochs=5,\n",
    "                    batch_size=32,\n",
    "                    validation_data=(X_validation, y_validation))"
   ]
  },
  {
   "cell_type": "markdown",
   "metadata": {},
   "source": [
    "## Observations and above Results Comparision"
   ]
  },
  {
   "cell_type": "markdown",
   "metadata": {},
   "source": [
    "# Performance:\n",
    "LSTM model has better performance, because the added gate architecture addresses the vanishing gradients problem and trains the model more effectively."
   ]
  },
  {
   "cell_type": "markdown",
   "metadata": {},
   "source": [
    "# RNN vs SVM Comparision:\n",
    "- Both RNN and SVM use word embeddings as features\n",
    "- The word embedding trained in RNN is task specific while the one used in SVM is not.\n",
    "- RNN takes the word sequences into account, while SVM only uses bag-of-words information.\n",
    "- But sentiment analysis is a relatively simple task and sequential information might not be very useful.\n",
    "- RNN automate several data pre-process and is easier to implement and fine tune."
   ]
  },
  {
   "cell_type": "markdown",
   "metadata": {},
   "source": [
    "#  LSTM model trained on a 5000 tweets sample vs the one trained on the whole dataset\n",
    "Larger dataset generally produces better result (higher accuracy), but it is very time consuming to train on it."
   ]
  }
 ],
 "metadata": {
  "anaconda-cloud": {},
  "kernelspec": {
   "display_name": "Python 3",
   "language": "python",
   "name": "python3"
  },
  "language_info": {
   "codemirror_mode": {
    "name": "ipython",
    "version": 3
   },
   "file_extension": ".py",
   "mimetype": "text/x-python",
   "name": "python",
   "nbconvert_exporter": "python",
   "pygments_lexer": "ipython3",
   "version": "3.6.3"
  }
 },
 "nbformat": 4,
 "nbformat_minor": 2
}
